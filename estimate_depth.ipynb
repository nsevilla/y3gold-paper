{
 "cells": [
  {
   "cell_type": "code",
   "execution_count": 1,
   "metadata": {},
   "outputs": [],
   "source": [
    "%matplotlib inline\n",
    "import os,sys\n",
    "import matplotlib\n",
    "import matplotlib.pyplot as plt\n",
    "import numpy as np\n",
    "from descolors import BAND_COLORS\n",
    "from astropy.io import fits\n",
    "from astropy.io.fits.hdu.hdulist import HDUList\n",
    "import fitsio\n",
    "import healpy as hp\n"
   ]
  },
  {
   "cell_type": "code",
   "execution_count": 4,
   "metadata": {},
   "outputs": [],
   "source": [
    "datadir = '/Users/nsevilla/y3gold-paper/data/'\n",
    "filename = 'sva1_gold_1.0.2-4_nside4096_nest_i_aper_4_weights.fits.gz'\n",
    "tdataSP = fitsio.read(datadir+filename)['I'].ravel()"
   ]
  },
  {
   "cell_type": "code",
   "execution_count": 5,
   "metadata": {},
   "outputs": [
    {
     "name": "stdout",
     "output_type": "stream",
     "text": [
      "[-1.6375e+30 -1.6375e+30 -1.6375e+30 ... -1.6375e+30 -1.6375e+30\n",
      " -1.6375e+30]\n"
     ]
    }
   ],
   "source": [
    "print tdataSP"
   ]
  },
  {
   "cell_type": "code",
   "execution_count": 8,
   "metadata": {},
   "outputs": [
    {
     "name": "stdout",
     "output_type": "stream",
     "text": [
      "('Median', 23.682377, '+', 0.31168614959716834, '-', 0.4758930206298828)\n"
     ]
    }
   ],
   "source": [
    "tdataSP[tdataSP>30] = hp.UNSEEN\n",
    "tdataSP[tdataSP<0] = hp.UNSEEN\n",
    "mask = (tdataSP!=hp.UNSEEN)\n",
    "upper,lower = np.percentile(tdataSP[mask],[84.075,15.825])\n",
    "med = np.median(tdataSP[mask])\n",
    "print('Median',med,'+',upper-med,'-',med-lower)\n"
   ]
  },
  {
   "cell_type": "code",
   "execution_count": null,
   "metadata": {},
   "outputs": [],
   "source": []
  }
 ],
 "metadata": {
  "kernelspec": {
   "display_name": "Python [conda env:skymap]",
   "language": "python",
   "name": "conda-env-skymap-py"
  },
  "language_info": {
   "codemirror_mode": {
    "name": "ipython",
    "version": 3
   },
   "file_extension": ".py",
   "mimetype": "text/x-python",
   "name": "python",
   "nbconvert_exporter": "python",
   "pygments_lexer": "ipython3",
   "version": "3.6.7"
  }
 },
 "nbformat": 4,
 "nbformat_minor": 2
}
